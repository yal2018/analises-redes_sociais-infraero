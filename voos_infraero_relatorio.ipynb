{
  "nbformat": 4,
  "nbformat_minor": 0,
  "metadata": {
    "colab": {
      "name": "voos_infraero_relatorio.ipynb",
      "provenance": [],
      "authorship_tag": "ABX9TyN1AjbYLjPJYoHs+ieIVGm0",
      "include_colab_link": true
    },
    "kernelspec": {
      "name": "python3",
      "display_name": "Python 3"
    },
    "language_info": {
      "name": "python"
    }
  },
  "cells": [
    {
      "cell_type": "markdown",
      "metadata": {
        "id": "view-in-github",
        "colab_type": "text"
      },
      "source": [
        "<a href=\"https://colab.research.google.com/github/yal2018/analises-redes_sociais-infraero/blob/main/voos_infraero_relatorio.ipynb\" target=\"_parent\"><img src=\"https://colab.research.google.com/assets/colab-badge.svg\" alt=\"Open In Colab\"/></a>"
      ]
    },
    {
      "cell_type": "code",
      "execution_count": null,
      "metadata": {
        "id": "naPAuXSoio3T"
      },
      "outputs": [],
      "source": [
        "# Import libraries\n",
        "import requests\n",
        "from bs4 import BeautifulSoup\n",
        "import pandas as pd\n",
        "import numpy as np\n",
        "import requests\n",
        "from time import sleep"
      ]
    },
    {
      "cell_type": "code",
      "source": [
        "# Collect first page of flights list\n",
        "page = requests.get('http://voos.infraero.gov.br/hstvoos/RelatorioPortal.aspx')\n",
        "\n",
        "soup = BeautifulSoup(page.text, 'html.parser')"
      ],
      "metadata": {
        "id": "S3Ym8YIujCjc"
      },
      "execution_count": null,
      "outputs": []
    },
    {
      "cell_type": "code",
      "source": [
        "rows = []\n",
        "for child in soup.find_all('table')[0].children:\n",
        "        row = []\n",
        "        for td in child:\n",
        "            try:\n",
        "                row.append(td.text.replace('\\n', ''))\n",
        "            except:\n",
        "                continue\n",
        "        if len(row) > 0:\n",
        "            rows.append(row)"
      ],
      "metadata": {
        "id": "aGWiTTpQjFVb"
      },
      "execution_count": null,
      "outputs": []
    },
    {
      "cell_type": "code",
      "source": [
        "df = pd.DataFrame(rows[1:], columns=rows[0])\n",
        "print(df)\n",
        "df.to_csv('./voos_relatorio.csv', index=False)"
      ],
      "metadata": {
        "id": "LqMfDbnLjyJF"
      },
      "execution_count": null,
      "outputs": []
    }
  ]
}